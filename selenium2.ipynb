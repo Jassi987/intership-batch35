{
 "cells": [
  {
   "cell_type": "code",
   "execution_count": 3,
   "id": "e22a6552-f748-454f-a0d7-4717888e8b3b",
   "metadata": {},
   "outputs": [
    {
     "name": "stdout",
     "output_type": "stream",
     "text": [
      "Requirement already satisfied: selenium in /opt/anaconda3/lib/python3.9/site-packages (4.7.2)\n",
      "Requirement already satisfied: trio-websocket~=0.9 in /opt/anaconda3/lib/python3.9/site-packages (from selenium) (0.9.2)\n",
      "Requirement already satisfied: certifi>=2021.10.8 in /opt/anaconda3/lib/python3.9/site-packages (from selenium) (2021.10.8)\n",
      "Requirement already satisfied: trio~=0.17 in /opt/anaconda3/lib/python3.9/site-packages (from selenium) (0.22.0)\n",
      "Requirement already satisfied: urllib3[socks]~=1.26 in /opt/anaconda3/lib/python3.9/site-packages (from selenium) (1.26.9)\n",
      "Requirement already satisfied: idna in /opt/anaconda3/lib/python3.9/site-packages (from trio~=0.17->selenium) (3.3)\n",
      "Requirement already satisfied: exceptiongroup>=1.0.0rc9 in /opt/anaconda3/lib/python3.9/site-packages (from trio~=0.17->selenium) (1.1.0)\n",
      "Requirement already satisfied: sortedcontainers in /opt/anaconda3/lib/python3.9/site-packages (from trio~=0.17->selenium) (2.4.0)\n",
      "Requirement already satisfied: attrs>=19.2.0 in /opt/anaconda3/lib/python3.9/site-packages (from trio~=0.17->selenium) (21.4.0)\n",
      "Requirement already satisfied: async-generator>=1.9 in /opt/anaconda3/lib/python3.9/site-packages (from trio~=0.17->selenium) (1.10)\n",
      "Requirement already satisfied: sniffio in /opt/anaconda3/lib/python3.9/site-packages (from trio~=0.17->selenium) (1.2.0)\n",
      "Requirement already satisfied: outcome in /opt/anaconda3/lib/python3.9/site-packages (from trio~=0.17->selenium) (1.2.0)\n",
      "Requirement already satisfied: wsproto>=0.14 in /opt/anaconda3/lib/python3.9/site-packages (from trio-websocket~=0.9->selenium) (1.2.0)\n",
      "Requirement already satisfied: PySocks!=1.5.7,<2.0,>=1.5.6 in /opt/anaconda3/lib/python3.9/site-packages (from urllib3[socks]~=1.26->selenium) (1.7.1)\n",
      "Requirement already satisfied: h11<1,>=0.9.0 in /opt/anaconda3/lib/python3.9/site-packages (from wsproto>=0.14->trio-websocket~=0.9->selenium) (0.14.0)\n"
     ]
    }
   ],
   "source": [
    "!pip install selenium"
   ]
  },
  {
   "cell_type": "code",
   "execution_count": 4,
   "id": "ffb162a5-b069-401c-9d4e-75e5d44cef26",
   "metadata": {},
   "outputs": [],
   "source": [
    "import pandas as pd\n",
    "import selenium\n",
    "import time\n",
    "from selenium import webdriver\n",
    "from selenium.webdriver.common.by import By"
   ]
  },
  {
   "cell_type": "raw",
   "id": "8c2999c1-f098-4090-8590-dc6d6700bc99",
   "metadata": {},
   "source": [
    " "
   ]
  },
  {
   "cell_type": "code",
   "execution_count": 5,
   "id": "b62b35d7-5d47-4558-afe0-36f4783ca05e",
   "metadata": {},
   "outputs": [],
   "source": [
    "from selenium.common.exceptions import StaleElementReferenceException, NoSuchElementException"
   ]
  },
  {
   "cell_type": "code",
   "execution_count": 6,
   "id": "9e70d084-bedc-4b01-aeb9-449bb25eaede",
   "metadata": {},
   "outputs": [],
   "source": [
    "import requests\n",
    "import re"
   ]
  },
  {
   "cell_type": "code",
   "execution_count": null,
   "id": "e178e04f-68c3-4e8c-800b-9cf75beaaeda",
   "metadata": {},
   "outputs": [],
   "source": [
    "#. Write a python program which searches all the product under a particular product from www.amazon.in.\n",
    "The product to be searched will be taken as input from user. For e.g. If user input is ‘guitar’. Then search\n",
    "for guitars.\n",
    "2. In the above question, now scrape the following details of each product listed in first 3 pages of your\n",
    "search results and save it in a data frame and csv. In case if any product has less than 3 pages in search\n",
    "results then scrape all the products available under that product name. Details to be scraped are: \"Brand\n",
    "Name\", \"Name of the Product\", \"Price\", \"Return/Exchange\", \"Expected Delivery\", \"Availability\" and\n",
    "“Product URL”. In case, if any of the details are missing for any of the product then replace it by “-“"
   ]
  },
  {
   "cell_type": "code",
   "execution_count": 7,
   "id": "c844898d-b41a-4b96-a28e-85bdca1240ca",
   "metadata": {},
   "outputs": [
    {
     "name": "stderr",
     "output_type": "stream",
     "text": [
      "/var/folders/7w/vh3pm6nx355b0g53flh1j6n80000gn/T/ipykernel_6550/3905516229.py:1: DeprecationWarning: executable_path has been deprecated, please pass in a Service object\n",
      "  driver=webdriver.Chrome(r\"https://chromedriver.storage.googleapis.com/108.0.5359.71/chromedriver_mac64.unzip\")\n"
     ]
    }
   ],
   "source": [
    "driver=webdriver.Chrome(r\"https://chromedriver.storage.googleapis.com/108.0.5359.71/chromedriver_mac64.unzip\")"
   ]
  },
  {
   "cell_type": "code",
   "execution_count": 8,
   "id": "5d6355d0-d397-49fd-9a49-3d414f9673f1",
   "metadata": {},
   "outputs": [],
   "source": [
    "driver.get(\"https://www.amazon.in/\")"
   ]
  },
  {
   "cell_type": "code",
   "execution_count": 9,
   "id": "4fee7c77-1a37-4bfe-a79b-9ea856facdcf",
   "metadata": {},
   "outputs": [],
   "source": [
    "selection=driver.find_element(By.XPATH,\"/html/body/div[1]/header/div/div[1]/div[2]/div/form/div[2]/div[1]/input\")\n",
    "selection.send_keys('guitar')\n",
    "\n",
    "    "
   ]
  },
  {
   "cell_type": "code",
   "execution_count": 10,
   "id": "76080005-1fdb-4700-b300-0cc9b24b9929",
   "metadata": {},
   "outputs": [],
   "source": [
    "search=driver.find_element(By.XPATH,\"/html/body/div[1]/header/div/div[1]/div[2]/div/form/div[3]/div/span/input\")\n",
    "search.click()\n",
    "time.sleep(4)"
   ]
  },
  {
   "cell_type": "code",
   "execution_count": 16,
   "id": "00e882ba-0dfd-4466-8a49-5ab40a597ec7",
   "metadata": {},
   "outputs": [],
   "source": [
    "Brand_name=[]\n",
    "Product_name=[]\n",
    "Price=[]\n",
    "Return_Exchange=[]\n",
    "Expected_delivery=[]\n",
    "Availability=[]\n"
   ]
  },
  {
   "cell_type": "code",
   "execution_count": 17,
   "id": "93810c51-80f0-4ddb-b283-482d50348d11",
   "metadata": {},
   "outputs": [],
   "source": [
    "brand = driver.find_elements(By.XPATH,'//span[@class=\"a-unordered-list a-nostyle a-vertical a-spacing-medium\"]')\n",
    "for i in brand[0:2]:\n",
    "    element =i.text\n",
    "    Brand_name.append(element)\n",
    "\n",
    "product=driver.find_elements(By.XPATH,'//div[@class=\"a-size-base a-color-base puis-bold-weight-text\"]')\n",
    "for i in product[0:2]:\n",
    "    Product_name.append(i.text)\n",
    "    \n",
    "price_r=driver.find_elements(By.XPATH,\"/html/body/div[1]/div[2]/div[1]/div[2]/div/div[3]/span/div[1]/div/div/div[5]/ul[1]\")\n",
    "for i in price_r[0:2]:\n",
    "    Price.append(i.text)\n",
    "\n",
    "next_button=driver.find_elements(By.XPATH,\"/html/body/div[1]/div[2]/div[1]/div[1]/div/span[1]/div[1]/div[69]/div/div/span/a[3]/svg\")\n",
    "                                 \n",
    "                                 \n",
    "                             "
   ]
  },
  {
   "cell_type": "code",
   "execution_count": 19,
   "id": "6e40ae16-ec6a-4dcd-9038-c62cc8b9d01a",
   "metadata": {},
   "outputs": [
    {
     "data": {
      "text/plain": [
       "(1, 0, 0)"
      ]
     },
     "execution_count": 19,
     "metadata": {},
     "output_type": "execute_result"
    }
   ],
   "source": [
    "len(Price),len(Product_name),len(Brand_name)"
   ]
  },
  {
   "cell_type": "code",
   "execution_count": 20,
   "id": "78171271-b075-4c4c-a36c-359f3c1d3509",
   "metadata": {},
   "outputs": [
    {
     "data": {
      "text/plain": [
       "[]"
      ]
     },
     "execution_count": 20,
     "metadata": {},
     "output_type": "execute_result"
    }
   ],
   "source": [
    "Brand_name\n"
   ]
  },
  {
   "cell_type": "code",
   "execution_count": 21,
   "id": "9c983435-cb9d-4369-ab28-8da50b17653c",
   "metadata": {},
   "outputs": [],
   "source": [
    "jd=[]\n",
    "for i in Brand_name:\n",
    "    \n",
    "    \n",
    "    try:\n",
    "        brand=driver.find_elements(By.XPATH,'//span[@class=\"a-unordered-list a-nostyle a-vertical a-spacing-medium\"]')\n",
    "        jd.append(brand.text)\n",
    "    except: NoSuchElementException\n",
    "    jd.append(\"-\")\n",
    "    "
   ]
  },
  {
   "cell_type": "code",
   "execution_count": null,
   "id": "9f00f8bb-1439-4a5d-8d4a-c8c0be5f7672",
   "metadata": {},
   "outputs": [],
   "source": []
  },
  {
   "cell_type": "code",
   "execution_count": null,
   "id": "620e9027-0eb5-4647-9ba2-a002b7c13268",
   "metadata": {},
   "outputs": [],
   "source": []
  }
 ],
 "metadata": {
  "kernelspec": {
   "display_name": "Python 3 (ipykernel)",
   "language": "python",
   "name": "python3"
  },
  "language_info": {
   "codemirror_mode": {
    "name": "ipython",
    "version": 3
   },
   "file_extension": ".py",
   "mimetype": "text/x-python",
   "name": "python",
   "nbconvert_exporter": "python",
   "pygments_lexer": "ipython3",
   "version": "3.9.12"
  }
 },
 "nbformat": 4,
 "nbformat_minor": 5
}
